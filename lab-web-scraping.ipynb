{
 "cells": [
  {
   "cell_type": "markdown",
   "metadata": {},
   "source": [
    "# Lab | Web Scraping Single Page (GNOD part 1)"
   ]
  },
  {
   "cell_type": "code",
   "execution_count": 1,
   "metadata": {},
   "outputs": [],
   "source": [
    "from bs4 import BeautifulSoup\n",
    "import requests\n",
    "import pandas as pd"
   ]
  },
  {
   "cell_type": "code",
   "execution_count": 2,
   "metadata": {},
   "outputs": [],
   "source": [
    "url = \"https://www.popvortex.com/music/charts/top-100-songs.php/\""
   ]
  },
  {
   "cell_type": "code",
   "execution_count": 3,
   "metadata": {},
   "outputs": [
    {
     "data": {
      "text/plain": [
       "200"
      ]
     },
     "execution_count": 3,
     "metadata": {},
     "output_type": "execute_result"
    }
   ],
   "source": [
    "response = requests.get(url)\n",
    "response.status_code"
   ]
  },
  {
   "cell_type": "code",
   "execution_count": 4,
   "metadata": {},
   "outputs": [],
   "source": [
    "soup = BeautifulSoup(response.content, 'html.parser')\n",
    "#soup"
   ]
  },
  {
   "cell_type": "code",
   "execution_count": 5,
   "metadata": {},
   "outputs": [],
   "source": [
    "#soup.select('.title')"
   ]
  },
  {
   "cell_type": "code",
   "execution_count": 6,
   "metadata": {},
   "outputs": [],
   "source": [
    "#soup.select('.artist')"
   ]
  },
  {
   "cell_type": "code",
   "execution_count": 7,
   "metadata": {},
   "outputs": [],
   "source": [
    "songs = []\n",
    "\n",
    "for i in soup.select(\".title\"):\n",
    "    songs.append(i.get_text())\n",
    "\n",
    "artists = []\n",
    "\n",
    "for i in soup.select(\".artist\"):\n",
    "    artists.append(i.get_text())\n",
    "\n",
    "#print(songs)\n",
    "#print(artists)"
   ]
  },
  {
   "cell_type": "code",
   "execution_count": 8,
   "metadata": {},
   "outputs": [
    {
     "data": {
      "text/html": [
       "<div>\n",
       "<style scoped>\n",
       "    .dataframe tbody tr th:only-of-type {\n",
       "        vertical-align: middle;\n",
       "    }\n",
       "\n",
       "    .dataframe tbody tr th {\n",
       "        vertical-align: top;\n",
       "    }\n",
       "\n",
       "    .dataframe thead th {\n",
       "        text-align: right;\n",
       "    }\n",
       "</style>\n",
       "<table border=\"1\" class=\"dataframe\">\n",
       "  <thead>\n",
       "    <tr style=\"text-align: right;\">\n",
       "      <th></th>\n",
       "      <th>Song</th>\n",
       "      <th>Artist</th>\n",
       "    </tr>\n",
       "  </thead>\n",
       "  <tbody>\n",
       "    <tr>\n",
       "      <th>0</th>\n",
       "      <td>Margaritaville</td>\n",
       "      <td>Jimmy Buffett</td>\n",
       "    </tr>\n",
       "    <tr>\n",
       "      <th>1</th>\n",
       "      <td>Come Monday</td>\n",
       "      <td>Jimmy Buffett</td>\n",
       "    </tr>\n",
       "    <tr>\n",
       "      <th>2</th>\n",
       "      <td>Rich Men North of Richmond</td>\n",
       "      <td>Oliver Anthony Music</td>\n",
       "    </tr>\n",
       "    <tr>\n",
       "      <th>3</th>\n",
       "      <td>All Star</td>\n",
       "      <td>Smash Mouth</td>\n",
       "    </tr>\n",
       "    <tr>\n",
       "      <th>4</th>\n",
       "      <td>Cheeseburger In Paradise</td>\n",
       "      <td>Jimmy Buffett</td>\n",
       "    </tr>\n",
       "    <tr>\n",
       "      <th>...</th>\n",
       "      <td>...</td>\n",
       "      <td>...</td>\n",
       "    </tr>\n",
       "    <tr>\n",
       "      <th>95</th>\n",
       "      <td>Thought You Should Know</td>\n",
       "      <td>Morgan Wallen</td>\n",
       "    </tr>\n",
       "    <tr>\n",
       "      <th>96</th>\n",
       "      <td>Dial Drunk</td>\n",
       "      <td>Noah Kahan &amp; Post Malone</td>\n",
       "    </tr>\n",
       "    <tr>\n",
       "      <th>97</th>\n",
       "      <td>bad idea right?</td>\n",
       "      <td>Olivia Rodrigo</td>\n",
       "    </tr>\n",
       "    <tr>\n",
       "      <th>98</th>\n",
       "      <td>august</td>\n",
       "      <td>Taylor Swift</td>\n",
       "    </tr>\n",
       "    <tr>\n",
       "      <th>99</th>\n",
       "      <td>Unstoppable</td>\n",
       "      <td>Sia</td>\n",
       "    </tr>\n",
       "  </tbody>\n",
       "</table>\n",
       "<p>100 rows × 2 columns</p>\n",
       "</div>"
      ],
      "text/plain": [
       "                          Song                    Artist\n",
       "0               Margaritaville             Jimmy Buffett\n",
       "1                  Come Monday             Jimmy Buffett\n",
       "2   Rich Men North of Richmond      Oliver Anthony Music\n",
       "3                     All Star               Smash Mouth\n",
       "4     Cheeseburger In Paradise             Jimmy Buffett\n",
       "..                         ...                       ...\n",
       "95     Thought You Should Know             Morgan Wallen\n",
       "96                  Dial Drunk  Noah Kahan & Post Malone\n",
       "97             bad idea right?            Olivia Rodrigo\n",
       "98                      august              Taylor Swift\n",
       "99                 Unstoppable                       Sia\n",
       "\n",
       "[100 rows x 2 columns]"
      ]
     },
     "execution_count": 8,
     "metadata": {},
     "output_type": "execute_result"
    }
   ],
   "source": [
    "data = pd.DataFrame({'Song': songs, 'Artist': artists})\n",
    "data"
   ]
  },
  {
   "cell_type": "markdown",
   "metadata": {},
   "source": [
    "# Lab | Web Scraping Multiple Pages (Part 1)"
   ]
  },
  {
   "cell_type": "code",
   "execution_count": 9,
   "metadata": {},
   "outputs": [
    {
     "name": "stdout",
     "output_type": "stream",
     "text": [
      "<Response [200]>\n"
     ]
    }
   ],
   "source": [
    "url2 = \"https://en.wikipedia.org/wiki/List_of_UK_Singles_Chart_number_ones_of_the_1990s\"\n",
    "\n",
    "response2 = requests.get(url2)\n",
    "print(response2)\n",
    "\n",
    "soup2 = BeautifulSoup(response2.content, 'html.parser')"
   ]
  },
  {
   "cell_type": "code",
   "execution_count": 10,
   "metadata": {},
   "outputs": [],
   "source": [
    "table2 = soup2.select('table')[3]\n",
    "#table"
   ]
  },
  {
   "cell_type": "code",
   "execution_count": 11,
   "metadata": {},
   "outputs": [],
   "source": [
    "#table2.select(\"tr\")"
   ]
  },
  {
   "cell_type": "code",
   "execution_count": 12,
   "metadata": {},
   "outputs": [],
   "source": [
    "songs2 = []\n",
    "artists2 = []\n",
    "\n",
    "for row in table2.select(\"tr\"):\n",
    "    cells = row.select(\"td\")\n",
    "    if cells:                        # this checks whether the row is empty or not\n",
    "        artists2.append(cells[0].get_text().strip().replace('\"',''))\n",
    "        songs2.append(cells[1].get_text().strip().replace('\"',''))\n",
    "    \n",
    "#artists2"
   ]
  },
  {
   "cell_type": "code",
   "execution_count": 13,
   "metadata": {},
   "outputs": [
    {
     "data": {
      "text/html": [
       "<div>\n",
       "<style scoped>\n",
       "    .dataframe tbody tr th:only-of-type {\n",
       "        vertical-align: middle;\n",
       "    }\n",
       "\n",
       "    .dataframe tbody tr th {\n",
       "        vertical-align: top;\n",
       "    }\n",
       "\n",
       "    .dataframe thead th {\n",
       "        text-align: right;\n",
       "    }\n",
       "</style>\n",
       "<table border=\"1\" class=\"dataframe\">\n",
       "  <thead>\n",
       "    <tr style=\"text-align: right;\">\n",
       "      <th></th>\n",
       "      <th>Song</th>\n",
       "      <th>Artist</th>\n",
       "    </tr>\n",
       "  </thead>\n",
       "  <tbody>\n",
       "    <tr>\n",
       "      <th>0</th>\n",
       "      <td>Hangin' Tough</td>\n",
       "      <td>New Kids on the Block</td>\n",
       "    </tr>\n",
       "    <tr>\n",
       "      <th>1</th>\n",
       "      <td>Tears on My Pillow</td>\n",
       "      <td>Kylie Minogue</td>\n",
       "    </tr>\n",
       "    <tr>\n",
       "      <th>2</th>\n",
       "      <td>Nothing Compares 2 U</td>\n",
       "      <td>Sinéad O'Connor</td>\n",
       "    </tr>\n",
       "    <tr>\n",
       "      <th>3</th>\n",
       "      <td>Dub Be Good to Me</td>\n",
       "      <td>Beats International</td>\n",
       "    </tr>\n",
       "    <tr>\n",
       "      <th>4</th>\n",
       "      <td>The Power</td>\n",
       "      <td>Snap!</td>\n",
       "    </tr>\n",
       "    <tr>\n",
       "      <th>...</th>\n",
       "      <td>...</td>\n",
       "      <td>...</td>\n",
       "    </tr>\n",
       "    <tr>\n",
       "      <th>208</th>\n",
       "      <td>Lift Me Up</td>\n",
       "      <td>Geri Halliwell</td>\n",
       "    </tr>\n",
       "    <tr>\n",
       "      <th>209</th>\n",
       "      <td>She's the One / It's Only Us</td>\n",
       "      <td>Robbie Williams</td>\n",
       "    </tr>\n",
       "    <tr>\n",
       "      <th>210</th>\n",
       "      <td>King of My Castle</td>\n",
       "      <td>Wamdue Project</td>\n",
       "    </tr>\n",
       "    <tr>\n",
       "      <th>211</th>\n",
       "      <td>The Millennium Prayer</td>\n",
       "      <td>Cliff Richard</td>\n",
       "    </tr>\n",
       "    <tr>\n",
       "      <th>212</th>\n",
       "      <td>I Have a Dream / Seasons in the Sun</td>\n",
       "      <td>Westlife</td>\n",
       "    </tr>\n",
       "  </tbody>\n",
       "</table>\n",
       "<p>213 rows × 2 columns</p>\n",
       "</div>"
      ],
      "text/plain": [
       "                                    Song                 Artist\n",
       "0                          Hangin' Tough  New Kids on the Block\n",
       "1                     Tears on My Pillow          Kylie Minogue\n",
       "2                   Nothing Compares 2 U        Sinéad O'Connor\n",
       "3                      Dub Be Good to Me    Beats International\n",
       "4                              The Power                  Snap!\n",
       "..                                   ...                    ...\n",
       "208                           Lift Me Up         Geri Halliwell\n",
       "209         She's the One / It's Only Us        Robbie Williams\n",
       "210                    King of My Castle         Wamdue Project\n",
       "211                The Millennium Prayer          Cliff Richard\n",
       "212  I Have a Dream / Seasons in the Sun               Westlife\n",
       "\n",
       "[213 rows x 2 columns]"
      ]
     },
     "execution_count": 13,
     "metadata": {},
     "output_type": "execute_result"
    }
   ],
   "source": [
    "data2 = pd.DataFrame({'Song': songs2, 'Artist': artists2})\n",
    "data2"
   ]
  },
  {
   "cell_type": "code",
   "execution_count": 14,
   "metadata": {},
   "outputs": [
    {
     "name": "stderr",
     "output_type": "stream",
     "text": [
      "C:\\Users\\eliza\\AppData\\Local\\Temp\\ipykernel_9748\\1673050671.py:1: FutureWarning: The frame.append method is deprecated and will be removed from pandas in a future version. Use pandas.concat instead.\n",
      "  song_list = data.append(data2).drop_duplicates().reset_index(drop=True)\n"
     ]
    },
    {
     "data": {
      "text/html": [
       "<div>\n",
       "<style scoped>\n",
       "    .dataframe tbody tr th:only-of-type {\n",
       "        vertical-align: middle;\n",
       "    }\n",
       "\n",
       "    .dataframe tbody tr th {\n",
       "        vertical-align: top;\n",
       "    }\n",
       "\n",
       "    .dataframe thead th {\n",
       "        text-align: right;\n",
       "    }\n",
       "</style>\n",
       "<table border=\"1\" class=\"dataframe\">\n",
       "  <thead>\n",
       "    <tr style=\"text-align: right;\">\n",
       "      <th></th>\n",
       "      <th>Song</th>\n",
       "      <th>Artist</th>\n",
       "    </tr>\n",
       "  </thead>\n",
       "  <tbody>\n",
       "    <tr>\n",
       "      <th>0</th>\n",
       "      <td>Margaritaville</td>\n",
       "      <td>Jimmy Buffett</td>\n",
       "    </tr>\n",
       "    <tr>\n",
       "      <th>1</th>\n",
       "      <td>Come Monday</td>\n",
       "      <td>Jimmy Buffett</td>\n",
       "    </tr>\n",
       "    <tr>\n",
       "      <th>2</th>\n",
       "      <td>Rich Men North of Richmond</td>\n",
       "      <td>Oliver Anthony Music</td>\n",
       "    </tr>\n",
       "    <tr>\n",
       "      <th>3</th>\n",
       "      <td>All Star</td>\n",
       "      <td>Smash Mouth</td>\n",
       "    </tr>\n",
       "    <tr>\n",
       "      <th>4</th>\n",
       "      <td>Cheeseburger In Paradise</td>\n",
       "      <td>Jimmy Buffett</td>\n",
       "    </tr>\n",
       "    <tr>\n",
       "      <th>...</th>\n",
       "      <td>...</td>\n",
       "      <td>...</td>\n",
       "    </tr>\n",
       "    <tr>\n",
       "      <th>297</th>\n",
       "      <td>Lift Me Up</td>\n",
       "      <td>Geri Halliwell</td>\n",
       "    </tr>\n",
       "    <tr>\n",
       "      <th>298</th>\n",
       "      <td>She's the One / It's Only Us</td>\n",
       "      <td>Robbie Williams</td>\n",
       "    </tr>\n",
       "    <tr>\n",
       "      <th>299</th>\n",
       "      <td>King of My Castle</td>\n",
       "      <td>Wamdue Project</td>\n",
       "    </tr>\n",
       "    <tr>\n",
       "      <th>300</th>\n",
       "      <td>The Millennium Prayer</td>\n",
       "      <td>Cliff Richard</td>\n",
       "    </tr>\n",
       "    <tr>\n",
       "      <th>301</th>\n",
       "      <td>I Have a Dream / Seasons in the Sun</td>\n",
       "      <td>Westlife</td>\n",
       "    </tr>\n",
       "  </tbody>\n",
       "</table>\n",
       "<p>302 rows × 2 columns</p>\n",
       "</div>"
      ],
      "text/plain": [
       "                                    Song                Artist\n",
       "0                         Margaritaville         Jimmy Buffett\n",
       "1                            Come Monday         Jimmy Buffett\n",
       "2             Rich Men North of Richmond  Oliver Anthony Music\n",
       "3                               All Star           Smash Mouth\n",
       "4               Cheeseburger In Paradise         Jimmy Buffett\n",
       "..                                   ...                   ...\n",
       "297                           Lift Me Up        Geri Halliwell\n",
       "298         She's the One / It's Only Us       Robbie Williams\n",
       "299                    King of My Castle        Wamdue Project\n",
       "300                The Millennium Prayer         Cliff Richard\n",
       "301  I Have a Dream / Seasons in the Sun              Westlife\n",
       "\n",
       "[302 rows x 2 columns]"
      ]
     },
     "execution_count": 14,
     "metadata": {},
     "output_type": "execute_result"
    }
   ],
   "source": [
    "song_list = data.append(data2).drop_duplicates().reset_index(drop=True)\n",
    "song_list"
   ]
  },
  {
   "cell_type": "code",
   "execution_count": 15,
   "metadata": {},
   "outputs": [
    {
     "name": "stdout",
     "output_type": "stream",
     "text": [
      "<Response [200]>\n"
     ]
    }
   ],
   "source": [
    "url3 = \"https://en.wikipedia.org/wiki/List_of_UK_Singles_Chart_number_ones_of_the_2000s\"\n",
    "\n",
    "response3 = requests.get(url3)\n",
    "print(response3)\n",
    "\n",
    "soup3 = BeautifulSoup(response3.content, 'html.parser')"
   ]
  },
  {
   "cell_type": "code",
   "execution_count": 16,
   "metadata": {},
   "outputs": [],
   "source": [
    "table3 = soup3.select('table')[3]\n",
    "songs3 = []\n",
    "artists3 = []\n",
    "\n",
    "for row in table3.select(\"tr\"):\n",
    "    cells = row.select(\"td\")\n",
    "    if cells:                        # this checks whether the row is empty or not\n",
    "        artists3.append(cells[0].get_text().strip().replace('\"',''))\n",
    "        songs3.append(cells[1].get_text().strip().replace('\"',''))\n",
    "\n",
    "#artists3"
   ]
  },
  {
   "cell_type": "code",
   "execution_count": 17,
   "metadata": {},
   "outputs": [
    {
     "name": "stderr",
     "output_type": "stream",
     "text": [
      "C:\\Users\\eliza\\AppData\\Local\\Temp\\ipykernel_9748\\2870435815.py:3: FutureWarning: The frame.append method is deprecated and will be removed from pandas in a future version. Use pandas.concat instead.\n",
      "  song_list = song_list.append(data3).drop_duplicates().reset_index(drop=True)\n"
     ]
    },
    {
     "data": {
      "text/html": [
       "<div>\n",
       "<style scoped>\n",
       "    .dataframe tbody tr th:only-of-type {\n",
       "        vertical-align: middle;\n",
       "    }\n",
       "\n",
       "    .dataframe tbody tr th {\n",
       "        vertical-align: top;\n",
       "    }\n",
       "\n",
       "    .dataframe thead th {\n",
       "        text-align: right;\n",
       "    }\n",
       "</style>\n",
       "<table border=\"1\" class=\"dataframe\">\n",
       "  <thead>\n",
       "    <tr style=\"text-align: right;\">\n",
       "      <th></th>\n",
       "      <th>Song</th>\n",
       "      <th>Artist</th>\n",
       "    </tr>\n",
       "  </thead>\n",
       "  <tbody>\n",
       "    <tr>\n",
       "      <th>0</th>\n",
       "      <td>Margaritaville</td>\n",
       "      <td>Jimmy Buffett</td>\n",
       "    </tr>\n",
       "    <tr>\n",
       "      <th>1</th>\n",
       "      <td>Come Monday</td>\n",
       "      <td>Jimmy Buffett</td>\n",
       "    </tr>\n",
       "    <tr>\n",
       "      <th>2</th>\n",
       "      <td>Rich Men North of Richmond</td>\n",
       "      <td>Oliver Anthony Music</td>\n",
       "    </tr>\n",
       "    <tr>\n",
       "      <th>3</th>\n",
       "      <td>All Star</td>\n",
       "      <td>Smash Mouth</td>\n",
       "    </tr>\n",
       "    <tr>\n",
       "      <th>4</th>\n",
       "      <td>Cheeseburger In Paradise</td>\n",
       "      <td>Jimmy Buffett</td>\n",
       "    </tr>\n",
       "    <tr>\n",
       "      <th>...</th>\n",
       "      <td>...</td>\n",
       "      <td>...</td>\n",
       "    </tr>\n",
       "    <tr>\n",
       "      <th>569</th>\n",
       "      <td>Meet Me Halfway</td>\n",
       "      <td>The Black Eyed Peas</td>\n",
       "    </tr>\n",
       "    <tr>\n",
       "      <th>570</th>\n",
       "      <td>You Are Not Alone</td>\n",
       "      <td>The X Factor Finalists 2009</td>\n",
       "    </tr>\n",
       "    <tr>\n",
       "      <th>571</th>\n",
       "      <td>The Official BBC Children in Need Medley</td>\n",
       "      <td>Peter Kay's Animated All Star Band</td>\n",
       "    </tr>\n",
       "    <tr>\n",
       "      <th>572</th>\n",
       "      <td>Bad Romance</td>\n",
       "      <td>Lady Gaga</td>\n",
       "    </tr>\n",
       "    <tr>\n",
       "      <th>573</th>\n",
       "      <td>Killing in the Name</td>\n",
       "      <td>Rage Against the Machine</td>\n",
       "    </tr>\n",
       "  </tbody>\n",
       "</table>\n",
       "<p>574 rows × 2 columns</p>\n",
       "</div>"
      ],
      "text/plain": [
       "                                         Song  \\\n",
       "0                              Margaritaville   \n",
       "1                                 Come Monday   \n",
       "2                  Rich Men North of Richmond   \n",
       "3                                    All Star   \n",
       "4                    Cheeseburger In Paradise   \n",
       "..                                        ...   \n",
       "569                           Meet Me Halfway   \n",
       "570                         You Are Not Alone   \n",
       "571  The Official BBC Children in Need Medley   \n",
       "572                               Bad Romance   \n",
       "573                       Killing in the Name   \n",
       "\n",
       "                                 Artist  \n",
       "0                         Jimmy Buffett  \n",
       "1                         Jimmy Buffett  \n",
       "2                  Oliver Anthony Music  \n",
       "3                           Smash Mouth  \n",
       "4                         Jimmy Buffett  \n",
       "..                                  ...  \n",
       "569                 The Black Eyed Peas  \n",
       "570         The X Factor Finalists 2009  \n",
       "571  Peter Kay's Animated All Star Band  \n",
       "572                           Lady Gaga  \n",
       "573            Rage Against the Machine  \n",
       "\n",
       "[574 rows x 2 columns]"
      ]
     },
     "execution_count": 17,
     "metadata": {},
     "output_type": "execute_result"
    }
   ],
   "source": [
    "data3 = pd.DataFrame({'Song': songs3, 'Artist': artists3})\n",
    "\n",
    "song_list = song_list.append(data3).drop_duplicates().reset_index(drop=True)\n",
    "song_list"
   ]
  },
  {
   "cell_type": "code",
   "execution_count": 18,
   "metadata": {},
   "outputs": [],
   "source": [
    "song_list.to_csv('song_list.csv')"
   ]
  },
  {
   "cell_type": "markdown",
   "metadata": {},
   "source": [
    "# LAB con't -- GNOD - Part 2"
   ]
  },
  {
   "cell_type": "markdown",
   "metadata": {},
   "source": [
    "User chooses a song. This is checked against 'song_list'.\n",
    "\n",
    "If in the list, another song from the list is randomly output.\n",
    "\n",
    "If not, a message saying \"no recommendation at this time\" is output."
   ]
  },
  {
   "cell_type": "code",
   "execution_count": 38,
   "metadata": {},
   "outputs": [
    {
     "data": {
      "text/html": [
       "<div>\n",
       "<style scoped>\n",
       "    .dataframe tbody tr th:only-of-type {\n",
       "        vertical-align: middle;\n",
       "    }\n",
       "\n",
       "    .dataframe tbody tr th {\n",
       "        vertical-align: top;\n",
       "    }\n",
       "\n",
       "    .dataframe thead th {\n",
       "        text-align: right;\n",
       "    }\n",
       "</style>\n",
       "<table border=\"1\" class=\"dataframe\">\n",
       "  <thead>\n",
       "    <tr style=\"text-align: right;\">\n",
       "      <th></th>\n",
       "      <th>Song</th>\n",
       "      <th>Artist</th>\n",
       "    </tr>\n",
       "  </thead>\n",
       "  <tbody>\n",
       "    <tr>\n",
       "      <th>0</th>\n",
       "      <td>Margaritaville</td>\n",
       "      <td>Jimmy Buffett</td>\n",
       "    </tr>\n",
       "    <tr>\n",
       "      <th>1</th>\n",
       "      <td>Come Monday</td>\n",
       "      <td>Jimmy Buffett</td>\n",
       "    </tr>\n",
       "    <tr>\n",
       "      <th>2</th>\n",
       "      <td>Rich Men North of Richmond</td>\n",
       "      <td>Oliver Anthony Music</td>\n",
       "    </tr>\n",
       "    <tr>\n",
       "      <th>3</th>\n",
       "      <td>All Star</td>\n",
       "      <td>Smash Mouth</td>\n",
       "    </tr>\n",
       "    <tr>\n",
       "      <th>4</th>\n",
       "      <td>Cheeseburger In Paradise</td>\n",
       "      <td>Jimmy Buffett</td>\n",
       "    </tr>\n",
       "    <tr>\n",
       "      <th>...</th>\n",
       "      <td>...</td>\n",
       "      <td>...</td>\n",
       "    </tr>\n",
       "    <tr>\n",
       "      <th>569</th>\n",
       "      <td>Meet Me Halfway</td>\n",
       "      <td>The Black Eyed Peas</td>\n",
       "    </tr>\n",
       "    <tr>\n",
       "      <th>570</th>\n",
       "      <td>You Are Not Alone</td>\n",
       "      <td>The X Factor Finalists 2009</td>\n",
       "    </tr>\n",
       "    <tr>\n",
       "      <th>571</th>\n",
       "      <td>The Official BBC Children in Need Medley</td>\n",
       "      <td>Peter Kay's Animated All Star Band</td>\n",
       "    </tr>\n",
       "    <tr>\n",
       "      <th>572</th>\n",
       "      <td>Bad Romance</td>\n",
       "      <td>Lady Gaga</td>\n",
       "    </tr>\n",
       "    <tr>\n",
       "      <th>573</th>\n",
       "      <td>Killing in the Name</td>\n",
       "      <td>Rage Against the Machine</td>\n",
       "    </tr>\n",
       "  </tbody>\n",
       "</table>\n",
       "<p>574 rows × 2 columns</p>\n",
       "</div>"
      ],
      "text/plain": [
       "                                         Song  \\\n",
       "0                              Margaritaville   \n",
       "1                                 Come Monday   \n",
       "2                  Rich Men North of Richmond   \n",
       "3                                    All Star   \n",
       "4                    Cheeseburger In Paradise   \n",
       "..                                        ...   \n",
       "569                           Meet Me Halfway   \n",
       "570                         You Are Not Alone   \n",
       "571  The Official BBC Children in Need Medley   \n",
       "572                               Bad Romance   \n",
       "573                       Killing in the Name   \n",
       "\n",
       "                                 Artist  \n",
       "0                         Jimmy Buffett  \n",
       "1                         Jimmy Buffett  \n",
       "2                  Oliver Anthony Music  \n",
       "3                           Smash Mouth  \n",
       "4                         Jimmy Buffett  \n",
       "..                                  ...  \n",
       "569                 The Black Eyed Peas  \n",
       "570         The X Factor Finalists 2009  \n",
       "571  Peter Kay's Animated All Star Band  \n",
       "572                           Lady Gaga  \n",
       "573            Rage Against the Machine  \n",
       "\n",
       "[574 rows x 2 columns]"
      ]
     },
     "execution_count": 38,
     "metadata": {},
     "output_type": "execute_result"
    }
   ],
   "source": [
    "# song_list = pd.read_csv('song_list.csv').drop(['Unnamed: 0'],axis=1)\n",
    "# song_list"
   ]
  },
  {
   "cell_type": "code",
   "execution_count": 39,
   "metadata": {},
   "outputs": [
    {
     "name": "stdout",
     "output_type": "stream",
     "text": [
      "Choose a song: Bad Romance\n"
     ]
    }
   ],
   "source": [
    "user_song = input('Choose a song: ')"
   ]
  },
  {
   "cell_type": "code",
   "execution_count": 40,
   "metadata": {},
   "outputs": [
    {
     "name": "stdout",
     "output_type": "stream",
     "text": [
      "Alternative song:  No Limit\n",
      "By:                2 Unlimited\n"
     ]
    }
   ],
   "source": [
    "from random import randint\n",
    "\n",
    "rand_song = randint(0,len(song_list))\n",
    "\n",
    "if user_song in list(song_list['Song']):\n",
    "    print('Alternative song: ',song_list['Song'][rand_song])\n",
    "    print('By:               ',song_list['Artist'][rand_song])\n",
    "    \n",
    "else:\n",
    "    print('Sorry, no recommendation at this time.')"
   ]
  },
  {
   "cell_type": "markdown",
   "metadata": {},
   "source": [
    "NB. There is a small chance that the selector will return the user-input song back to them!"
   ]
  },
  {
   "cell_type": "code",
   "execution_count": null,
   "metadata": {},
   "outputs": [],
   "source": []
  }
 ],
 "metadata": {
  "kernelspec": {
   "display_name": "Python 3 (ipykernel)",
   "language": "python",
   "name": "python3"
  },
  "language_info": {
   "codemirror_mode": {
    "name": "ipython",
    "version": 3
   },
   "file_extension": ".py",
   "mimetype": "text/x-python",
   "name": "python",
   "nbconvert_exporter": "python",
   "pygments_lexer": "ipython3",
   "version": "3.10.9"
  }
 },
 "nbformat": 4,
 "nbformat_minor": 2
}
