{
 "cells": [
  {
   "cell_type": "markdown",
   "id": "79b0f296",
   "metadata": {},
   "source": [
    "# Linking to Spotify"
   ]
  },
  {
   "cell_type": "code",
   "execution_count": 1,
   "id": "c3bd22f9",
   "metadata": {},
   "outputs": [],
   "source": [
    "import spotipy\n",
    "from spotipy.oauth2 import SpotifyClientCredentials\n",
    "\n",
    "secrets_file = open(\"secrets.txt\",\"r\")\n",
    "string = secrets_file.read()\n",
    "\n",
    "secrets_dict={}\n",
    "for line in string.split('\\n'):\n",
    "    if len(line) > 0:\n",
    "        secrets_dict[line.split(':')[0]]=line.split(':')[1].strip()\n",
    "        \n",
    "sp = spotipy.Spotify(auth_manager=SpotifyClientCredentials(client_id=secrets_dict['clientid'],\n",
    "                                                           client_secret=secrets_dict['clientsecret']))"
   ]
  },
  {
   "cell_type": "markdown",
   "id": "927fccd8",
   "metadata": {},
   "source": [
    "# Preparing the library"
   ]
  },
  {
   "cell_type": "code",
   "execution_count": 2,
   "id": "ee2ad946",
   "metadata": {},
   "outputs": [],
   "source": [
    "from random import randint\n",
    "import pandas as pd\n",
    "from pandas import json_normalize\n",
    "\n",
    "pop_100 = pd.read_csv('pop_100.csv').drop('Unnamed: 0', axis = 1)\n",
    "\n",
    "song_library = pd.read_csv('song_library.csv').drop('Unnamed: 0', axis = 1)\n",
    "song_library = song_library[song_library['name'].isna()==False].reset_index(drop=True)\n",
    "\n",
    "X_num = song_library[['danceability', 'energy', 'key',\n",
    "       'loudness', 'mode', 'speechiness', 'acousticness', 'instrumentalness',\n",
    "       'liveness', 'valence', 'tempo', 'duration_ms', 'time_signature']]"
   ]
  },
  {
   "cell_type": "code",
   "execution_count": 3,
   "id": "099075c8",
   "metadata": {},
   "outputs": [],
   "source": [
    "from sklearn.preprocessing import StandardScaler\n",
    "\n",
    "scaler = StandardScaler().fit(X_num)\n",
    "X_prep = scaler.transform(X_num)"
   ]
  },
  {
   "cell_type": "code",
   "execution_count": 4,
   "id": "72f2060e",
   "metadata": {},
   "outputs": [],
   "source": [
    "from sklearn import cluster\n",
    "from sklearn.cluster import KMeans\n",
    "\n",
    "kmeans = KMeans(n_clusters=9, random_state=1234, n_init=10) # k=9, found earlier\n",
    "kmeans.fit(X_prep)\n",
    "\n",
    "clusters = kmeans.predict(X_prep)\n",
    "\n",
    "song_library['category'] = clusters"
   ]
  },
  {
   "cell_type": "markdown",
   "id": "a61aa162",
   "metadata": {},
   "source": [
    "# User chooses a song"
   ]
  },
  {
   "cell_type": "code",
   "execution_count": 20,
   "id": "90c285c2",
   "metadata": {},
   "outputs": [
    {
     "name": "stdout",
     "output_type": "stream",
     "text": [
      "Choose a song: I Giorni\n"
     ]
    }
   ],
   "source": [
    "user_song = input('Choose a song: ')"
   ]
  },
  {
   "cell_type": "markdown",
   "id": "148ebb0e",
   "metadata": {},
   "source": [
    "# Song generator"
   ]
  },
  {
   "cell_type": "code",
   "execution_count": 23,
   "id": "0c328a5c",
   "metadata": {},
   "outputs": [
    {
     "name": "stdout",
     "output_type": "stream",
     "text": [
      "Your choice :  I Giorni\n",
      "By          :  Ludovico Einaudi\n",
      "Album       :  Kołysanki\n",
      "url         :  https://open.spotify.com/track/1PGFtLsMJXaom0xQ0O6ZaG\n",
      "Predicted   :  1 \n",
      "\n",
      "Suggested track :  Glassworks: Opening\n",
      "By              :  Víkingur Ólafsson\n",
      "url             :  https://open.spotify.com/track/2XYEu7Deyz20WeL6Py3XLc\n",
      "Category check  :  1\n"
     ]
    }
   ],
   "source": [
    "if user_song in list(pop_100['Song']):\n",
    "    rand_int = randint(0,len(pop_100))\n",
    "    print('Alternative song: ',pop_100['Song'][rand_int])\n",
    "    print('By:               ',pop_100['Artist'][rand_int])\n",
    "    \n",
    "else:\n",
    "    search_results = sp.search(q=user_song, limit=3)\n",
    "    user_song_options = json_normalize(search_results['tracks']['items'])\n",
    "    user_song_id = user_song_options['id'][0]\n",
    "    \n",
    "    print('Your choice : ',user_song_options['name'][0])\n",
    "    print('By          : ',user_song_options['artists'][0][0]['name'])\n",
    "    print('Album       : ',user_song_options['album.name'][0])\n",
    "    print('url         : ','https://open.spotify.com/track/'+user_song_id)\n",
    "    \n",
    "    \n",
    "    if user_song_id in list(song_library['song_id']):\n",
    "        user_song_cat = song_library.loc[song_library['song_id'] == user_song_id,'category'].values[0]\n",
    "\n",
    "        print('Category    : ',user_song_cat,'\\n')\n",
    "\n",
    "        rand_int = randint(0,len(song_library[song_library['category']==user_song_cat]))\n",
    "\n",
    "        suggested_track = song_library[song_library['category']==user_song_cat].iloc[rand_int,0]\n",
    "        suggested_artist = song_library[song_library['category']==user_song_cat].iloc[rand_int,1]\n",
    "        suggested_url = song_library[song_library['category']==user_song_cat].iloc[rand_int,2]\n",
    "        suggested_category = song_library[song_library['category']==user_song_cat].iloc[rand_int,21]\n",
    "\n",
    "        print('Suggested track : ',suggested_track)\n",
    "        print('By              : ',suggested_artist)\n",
    "        print('url             : ','https://open.spotify.com/track/'+suggested_url)\n",
    "        print('Category check  : ',suggested_category)\n",
    "   \n",
    "    else: # otherwise, find its audio_features and use kmean to predict a category\n",
    "        user_song_audio = sp.audio_features(user_song_id)\n",
    "        user_song_audio_df = json_normalize(user_song_audio)\n",
    "        user_song_audio_df_num = user_song_audio_df[['danceability', 'energy', 'key',\n",
    "           'loudness', 'mode', 'speechiness', 'acousticness', 'instrumentalness',\n",
    "           'liveness', 'valence', 'tempo', 'duration_ms', 'time_signature']]\n",
    "        user_song_audio_prep = scaler.transform(user_song_audio_df_num)\n",
    "\n",
    "        user_song_cat1 = kmeans.predict(user_song_audio_prep)[0]\n",
    "\n",
    "        print('Predicted   : ',user_song_cat1,'\\n')\n",
    "\n",
    "        rand_int = randint(0,len(song_library[song_library['category']==user_song_cat1]))\n",
    "\n",
    "        suggested_track = song_library[song_library['category']==user_song_cat1].iloc[rand_int,0]\n",
    "        suggested_artist = song_library[song_library['category']==user_song_cat1].iloc[rand_int,1]\n",
    "        suggested_url = song_library[song_library['category']==user_song_cat1].iloc[rand_int,2]\n",
    "        suggested_category = song_library[song_library['category']==user_song_cat1].iloc[rand_int,21]\n",
    "\n",
    "        print('Suggested track : ',suggested_track)\n",
    "        print('By              : ',suggested_artist)\n",
    "        print('url             : ','https://open.spotify.com/track/'+suggested_url)\n",
    "        print('Category check  : ',suggested_category)"
   ]
  },
  {
   "cell_type": "code",
   "execution_count": null,
   "id": "a534f140",
   "metadata": {},
   "outputs": [],
   "source": []
  }
 ],
 "metadata": {
  "kernelspec": {
   "display_name": "Python 3 (ipykernel)",
   "language": "python",
   "name": "python3"
  },
  "language_info": {
   "codemirror_mode": {
    "name": "ipython",
    "version": 3
   },
   "file_extension": ".py",
   "mimetype": "text/x-python",
   "name": "python",
   "nbconvert_exporter": "python",
   "pygments_lexer": "ipython3",
   "version": "3.10.9"
  }
 },
 "nbformat": 4,
 "nbformat_minor": 5
}
