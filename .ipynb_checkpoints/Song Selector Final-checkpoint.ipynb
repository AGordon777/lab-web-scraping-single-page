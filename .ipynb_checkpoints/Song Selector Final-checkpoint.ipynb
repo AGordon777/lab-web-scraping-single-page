{
 "cells": [
  {
   "cell_type": "markdown",
   "id": "79b0f296",
   "metadata": {},
   "source": [
    "# Linking to Spotify"
   ]
  },
  {
   "cell_type": "code",
   "execution_count": 1,
   "id": "c3bd22f9",
   "metadata": {},
   "outputs": [],
   "source": [
    "import spotipy\n",
    "from spotipy.oauth2 import SpotifyClientCredentials\n",
    "\n",
    "secrets_file = open(\"secrets.txt\",\"r\")\n",
    "string = secrets_file.read()\n",
    "\n",
    "secrets_dict={}\n",
    "for line in string.split('\\n'):\n",
    "    if len(line) > 0:\n",
    "        secrets_dict[line.split(':')[0]]=line.split(':')[1].strip()\n",
    "        \n",
    "sp = spotipy.Spotify(auth_manager=SpotifyClientCredentials(client_id=secrets_dict['clientid'],\n",
    "                                                           client_secret=secrets_dict['clientsecret']))"
   ]
  },
  {
   "cell_type": "markdown",
   "id": "927fccd8",
   "metadata": {},
   "source": [
    "# Preparing the library"
   ]
  },
  {
   "cell_type": "code",
   "execution_count": 2,
   "id": "ee2ad946",
   "metadata": {},
   "outputs": [],
   "source": [
    "from random import randint\n",
    "import pandas as pd\n",
    "from pandas import json_normalize\n",
    "\n",
    "pop_100 = pd.read_csv('pop_100.csv').drop('Unnamed: 0', axis = 1)\n",
    "\n",
    "song_library = pd.read_csv('song_library.csv').drop('Unnamed: 0', axis = 1)\n",
    "song_library = song_library[song_library['name'].isna()==False].reset_index(drop=True)\n",
    "\n",
    "X_num = song_library[['danceability', 'energy', 'key',\n",
    "       'loudness', 'mode', 'speechiness', 'acousticness', 'instrumentalness',\n",
    "       'liveness', 'valence', 'tempo', 'duration_ms', 'time_signature']]"
   ]
  },
  {
   "cell_type": "code",
   "execution_count": 3,
   "id": "099075c8",
   "metadata": {},
   "outputs": [],
   "source": [
    "from sklearn.preprocessing import StandardScaler\n",
    "\n",
    "scaler = StandardScaler().fit(X_num)\n",
    "X_prep = scaler.transform(X_num)"
   ]
  },
  {
   "cell_type": "code",
   "execution_count": 4,
   "id": "72f2060e",
   "metadata": {},
   "outputs": [],
   "source": [
    "from sklearn import cluster\n",
    "from sklearn.cluster import KMeans\n",
    "\n",
    "kmeans = KMeans(n_clusters=9, random_state=1234, n_init=10) # k=9, found earlier\n",
    "kmeans.fit(X_prep)\n",
    "\n",
    "clusters = kmeans.predict(X_prep)\n",
    "\n",
    "song_library['category'] = clusters"
   ]
  },
  {
   "cell_type": "markdown",
   "id": "148ebb0e",
   "metadata": {},
   "source": [
    "# Song generator"
   ]
  },
  {
   "cell_type": "code",
   "execution_count": 8,
   "id": "90c285c2",
   "metadata": {},
   "outputs": [
    {
     "name": "stdout",
     "output_type": "stream",
     "text": [
      "Choose a song: Margaritaville\n",
      "Which is your song?\n"
     ]
    },
    {
     "data": {
      "text/html": [
       "<div>\n",
       "<style scoped>\n",
       "    .dataframe tbody tr th:only-of-type {\n",
       "        vertical-align: middle;\n",
       "    }\n",
       "\n",
       "    .dataframe tbody tr th {\n",
       "        vertical-align: top;\n",
       "    }\n",
       "\n",
       "    .dataframe thead th {\n",
       "        text-align: right;\n",
       "    }\n",
       "</style>\n",
       "<table border=\"1\" class=\"dataframe\">\n",
       "  <thead>\n",
       "    <tr style=\"text-align: right;\">\n",
       "      <th></th>\n",
       "      <th>track</th>\n",
       "      <th>by</th>\n",
       "      <th>album</th>\n",
       "      <th>id</th>\n",
       "    </tr>\n",
       "  </thead>\n",
       "  <tbody>\n",
       "    <tr>\n",
       "      <th>0</th>\n",
       "      <td>Margaritaville</td>\n",
       "      <td>Jimmy Buffett</td>\n",
       "      <td>Changes In Latitudes, Changes In Attitudes</td>\n",
       "      <td>4EEjMyQub6tgFVshlM9j1M</td>\n",
       "    </tr>\n",
       "    <tr>\n",
       "      <th>1</th>\n",
       "      <td>Margaritaville (with Jimmy Buffett)</td>\n",
       "      <td>Alan Jackson</td>\n",
       "      <td>Under The Influence</td>\n",
       "      <td>2CEWW0uqHj7sJrXdfHwozn</td>\n",
       "    </tr>\n",
       "    <tr>\n",
       "      <th>2</th>\n",
       "      <td>Margaritaville (Lost Verse) - Live</td>\n",
       "      <td>Jimmy Buffett</td>\n",
       "      <td>Buffett Live: Tuesdays, Thursdays, Saturdays</td>\n",
       "      <td>1gpZ5KzrCJlClmFhzA3KH6</td>\n",
       "    </tr>\n",
       "    <tr>\n",
       "      <th>3</th>\n",
       "      <td>Margaritaville - Live (1978 Version)</td>\n",
       "      <td>Jimmy Buffett</td>\n",
       "      <td>You Had To Be There: Recorded Live</td>\n",
       "      <td>6nx3pxM8rx9ouReborMnZ3</td>\n",
       "    </tr>\n",
       "    <tr>\n",
       "      <th>4</th>\n",
       "      <td>Margaritaville - Live</td>\n",
       "      <td>Jimmy Buffett</td>\n",
       "      <td>Live in Las Vegas, NV</td>\n",
       "      <td>56q2hf3A2XLjMPhsCwB9mK</td>\n",
       "    </tr>\n",
       "  </tbody>\n",
       "</table>\n",
       "</div>"
      ],
      "text/plain": [
       "                                  track             by  \\\n",
       "0                        Margaritaville  Jimmy Buffett   \n",
       "1   Margaritaville (with Jimmy Buffett)   Alan Jackson   \n",
       "2    Margaritaville (Lost Verse) - Live  Jimmy Buffett   \n",
       "3  Margaritaville - Live (1978 Version)  Jimmy Buffett   \n",
       "4                 Margaritaville - Live  Jimmy Buffett   \n",
       "\n",
       "                                          album                      id  \n",
       "0    Changes In Latitudes, Changes In Attitudes  4EEjMyQub6tgFVshlM9j1M  \n",
       "1                           Under The Influence  2CEWW0uqHj7sJrXdfHwozn  \n",
       "2  Buffett Live: Tuesdays, Thursdays, Saturdays  1gpZ5KzrCJlClmFhzA3KH6  \n",
       "3            You Had To Be There: Recorded Live  6nx3pxM8rx9ouReborMnZ3  \n",
       "4                         Live in Las Vegas, NV  56q2hf3A2XLjMPhsCwB9mK  "
      ]
     },
     "metadata": {},
     "output_type": "display_data"
    },
    {
     "name": "stdout",
     "output_type": "stream",
     "text": [
      "0, 1, 2, 3 or 4   :0\n",
      "Your choice :  Margaritaville\n",
      "By          :  Jimmy Buffett\n",
      "Album       :  Changes In Latitudes, Changes In Attitudes\n",
      "url         :  https://open.spotify.com/track/4EEjMyQub6tgFVshlM9j1M\n",
      "Alternative song:  Lil Boo Thang\n",
      "By:                Paul Russell\n"
     ]
    }
   ],
   "source": [
    "user_song = input('Choose a song: ')\n",
    "\n",
    "search_results = sp.search(q=user_song, limit=5)\n",
    "results = json_normalize(search_results['tracks']['items'])\n",
    "\n",
    "options = []\n",
    "options = pd.DataFrame({'track': results['name'],\n",
    "                        'by': [results['artists'][0][0]['name'], results['artists'][1][0]['name'], results['artists'][2][0]['name'], results['artists'][3][0]['name'], results['artists'][4][0]['name']],\n",
    "                        'album': results['album.name'],\n",
    "                        'id':results['id']})\n",
    "\n",
    "print('Which is your song?')\n",
    "display(options)\n",
    "\n",
    "user_song_select = input('0, 1, 2, 3 or 4   :')\n",
    "user_song_select_int = int(user_song_select)\n",
    "\n",
    "user_song = options['track'][user_song_select_int]\n",
    "user_song_id = options['id'][user_song_select_int]\n",
    "\n",
    "print('Your choice : ',user_song)\n",
    "print('By          : ',options['by'][user_song_select_int])\n",
    "print('Album       : ',options['album'][user_song_select_int])\n",
    "print('url         : ','https://open.spotify.com/track/'+user_song_id)\n",
    "\n",
    "if user_song in list(pop_100['Song']):\n",
    "    rand_int = randint(0,len(pop_100))\n",
    "    print('Alternative song: ',pop_100['Song'][rand_int])\n",
    "    print('By:               ',pop_100['Artist'][rand_int])\n",
    "    \n",
    "else:\n",
    "    if user_song_id in list(song_library['song_id']):\n",
    "        user_song_cat = song_library.loc[song_library['song_id'] == user_song_id,'category'].values[0]\n",
    "\n",
    "        print('Category    : ',user_song_cat,'\\n')\n",
    "\n",
    "        rand_int = randint(0,len(song_library[song_library['category']==user_song_cat]))\n",
    "\n",
    "        suggested_track = song_library[song_library['category']==user_song_cat].iloc[rand_int,0]\n",
    "        suggested_artist = song_library[song_library['category']==user_song_cat].iloc[rand_int,1]\n",
    "        suggested_url = song_library[song_library['category']==user_song_cat].iloc[rand_int,2]\n",
    "        suggested_category = song_library[song_library['category']==user_song_cat].iloc[rand_int,21]\n",
    "\n",
    "        print('Suggested track : ',suggested_track)\n",
    "        print('By              : ',suggested_artist)\n",
    "        print('url             : ','https://open.spotify.com/track/'+suggested_url)\n",
    "        print('Category check  : ',suggested_category)\n",
    "   \n",
    "    else: # otherwise, find its audio_features and use kmean to predict a category\n",
    "        user_song_audio = sp.audio_features(user_song_id)\n",
    "        user_song_audio_df = json_normalize(user_song_audio)\n",
    "        user_song_audio_df_num = user_song_audio_df[['danceability', 'energy', 'key',\n",
    "           'loudness', 'mode', 'speechiness', 'acousticness', 'instrumentalness',\n",
    "           'liveness', 'valence', 'tempo', 'duration_ms', 'time_signature']]\n",
    "        user_song_audio_prep = scaler.transform(user_song_audio_df_num)\n",
    "\n",
    "        user_song_cat1 = kmeans.predict(user_song_audio_prep)[0]\n",
    "\n",
    "        print('Predicted   : ',user_song_cat1,'\\n')\n",
    "\n",
    "        rand_int = randint(0,len(song_library[song_library['category']==user_song_cat1]))\n",
    "\n",
    "        suggested_track = song_library[song_library['category']==user_song_cat1].iloc[rand_int,0]\n",
    "        suggested_artist = song_library[song_library['category']==user_song_cat1].iloc[rand_int,1]\n",
    "        suggested_url = song_library[song_library['category']==user_song_cat1].iloc[rand_int,2]\n",
    "        suggested_category = song_library[song_library['category']==user_song_cat1].iloc[rand_int,21]\n",
    "\n",
    "        print('Suggested track : ',suggested_track)\n",
    "        print('By              : ',suggested_artist)\n",
    "        print('url             : ','https://open.spotify.com/track/'+suggested_url)\n",
    "        print('Category check  : ',suggested_category)"
   ]
  },
  {
   "cell_type": "code",
   "execution_count": null,
   "id": "a534f140",
   "metadata": {},
   "outputs": [],
   "source": []
  }
 ],
 "metadata": {
  "kernelspec": {
   "display_name": "Python 3 (ipykernel)",
   "language": "python",
   "name": "python3"
  },
  "language_info": {
   "codemirror_mode": {
    "name": "ipython",
    "version": 3
   },
   "file_extension": ".py",
   "mimetype": "text/x-python",
   "name": "python",
   "nbconvert_exporter": "python",
   "pygments_lexer": "ipython3",
   "version": "3.10.9"
  }
 },
 "nbformat": 4,
 "nbformat_minor": 5
}
